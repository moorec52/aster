{
 "cells": [
  {
   "cell_type": "markdown",
   "metadata": {},
   "source": [
    "# Processing ASTER Data & Zonal Stats\n",
    "Credit to Steven Pestana, July 2020 (spestana@uw.edu)"
   ]
  },
  {
   "cell_type": "markdown",
   "metadata": {},
   "source": [
    "## Function for processsing ASTER TIR"
   ]
  },
  {
   "cell_type": "code",
   "execution_count": 1,
   "metadata": {},
   "outputs": [],
   "source": [
    "import pandas as pd\n",
    "import numpy as np\n",
    "import glob\n",
    "import geopandas as gpd\n",
    "import rasterio as rio\n",
    "import rasterio.plot as rioplt\n",
    "from rasterio.mask import mask\n",
    "\n",
    "\n",
    "def tir_dn2rad(DN, band):\n",
    "    '''Convert AST_L1T Digital Number values to At-Sensor Radiance for the TIR bands (bands 10-14).'''\n",
    "    ucc = [6.822e-3, 6.780e-3, 6.590e-3, 5.693e-3, 5.225e-3]\n",
    "    rad = (DN-1.) * ucc[band-10]\n",
    "    return rad\n",
    "\n",
    "def tir_rad2tb(rad, band):\n",
    "    '''Convert AST_L1T At-Sensor Radiance to Brightness Temperature [K] for the TIR bands (bands 10-14).'''\n",
    "    k1 = [3047.47, 2480.93, 1930.80, 865.65, 649.60]\n",
    "    k2 = [1736.18, 1666.21, 1584.72,1349.82, 1274.49]\n",
    "    tb = k2[band-10] /  np.log((k1[band-10]/rad) + 1)\n",
    "    return tb\n",
    "\n",
    "def aster_timestamps(directory, ext='hdf'):\n",
    "\n",
    "    '''Given a directory of ASTER files, read the timestamps of ASTER observations (in UTC) from their filenames.\n",
    "       Option to search for HDF of TIF files.\n",
    "       \n",
    "       Returns timestamp and filepath for each file found.'''\n",
    "    \n",
    "    assert (ext == 'hdf') or (ext == 'tif') , \"File extension must be either hdf or tif\"\n",
    "    \n",
    "    # Find all our ASTER files\n",
    "    search_path = '{directory}/**/*.{ext}'.format(directory=directory, ext=ext)\n",
    "    aster_files = glob.glob(search_path, recursive=True)\n",
    "    \n",
    "    # Create empty list to hold timestamps as we step through all files in the list\n",
    "    aster_timestamps_UTC = []\n",
    "    \n",
    "    # for each filepath in the list of ASTER files\n",
    "    for fpath in aster_files:\n",
    "        # Parse the date and time from ASTER filename\n",
    "        fn = fpath.split('/')[-1]\n",
    "        MM = fn.split('_')[2][3:5]\n",
    "        DD = fn.split('_')[2][5:7]\n",
    "        YYYY = fn.split('_')[2][7:11]\n",
    "        hh = fn.split('_')[2][11:13]\n",
    "        mm = fn.split('_')[2][13:15]\n",
    "        ss = fn.split('_')[2][15:17]\n",
    "        # create pandas timestamp and append to the list\n",
    "        aster_timestamps_UTC.append(pd.Timestamp('{}-{}-{} {}:{}:{}'.format(YYYY, MM, DD, hh, mm, ss),tz='UTC'))\n",
    "    \n",
    "    # Create pandas dataframe, sort, and reset index\n",
    "    aster_df = pd.DataFrame({'timestampUTC': aster_timestamps_UTC, 'filepath': aster_files})\n",
    "    aster_df.sort_values('timestampUTC',inplace=True)\n",
    "    aster_df.reset_index(inplace=True, drop=True)\n",
    "    \n",
    "    return aster_df"
   ]
  },
  {
   "cell_type": "markdown",
   "metadata": {},
   "source": [
    "## Function for applying zonal stats given a shapefile"
   ]
  },
  {
   "cell_type": "code",
   "execution_count": 2,
   "metadata": {},
   "outputs": [],
   "source": [
    "def zonal_stats(aster_filepath, aster_band, shapefile_filepath, return_masked_array=False):\n",
    "\t'''Calculate zonal statistics for an ASTER TIR geotiff image within a single polygon from a shapefile.'''\n",
    "\n",
    "\twith rio.open(aster_filepath) as src:\n",
    "\t\t\n",
    "\t\t# Open the shapefile\n",
    "\t\tzone_shape = gpd.read_file(shapefile_filepath)\n",
    "\n",
    "\t\t# Make sure our shapefile is the same CRS as the ASTER TIR image\n",
    "\t\tzone_shape = zone_shape.to_crs(src.crs)\n",
    "\n",
    "\t\t# Mask the ASTER TIR image to the area of the shapefile\n",
    "\t\ttry:\n",
    "\t\t\tmasked_aster_band_DN, mask_transform = mask(dataset=src, \n",
    "\t\t\t\t\t\t\t\t\t\t\tshapes=zone_shape.geometry,\n",
    "\t\t\t\t\t\t\t\t\t\t\tcrop=True,\n",
    "\t\t\t\t\t\t\t\t\t\t\tall_touched=True,\n",
    "\t\t\t\t\t\t\t\t\t\t\tfilled=True)\n",
    "\t\t# Note that we still have a \"bands\" axis (of size 1) even though there's only one band, we can remove it below\n",
    "\t\texcept ValueError as e: \n",
    "\t\t\t# ValueError when shape doesn't overlap raster\n",
    "\t\t\treturn\n",
    "\t\t\n",
    "\t\t# change data type to float64 so we can fill in DN=0 with NaN values\n",
    "\t\tmasked_aster_band_DN = masked_aster_band_DN.astype('float64')\n",
    "\t\tmasked_aster_band_DN[masked_aster_band_DN==0] = np.nan\n",
    "\t\t\t\t\n",
    "\t\t# Convert DN to Radiance\n",
    "\t\tmasked_aster_band_rad = tir_dn2rad(masked_aster_band_DN, aster_band)\n",
    "\t\t\n",
    "\t\t# Convert Radiance to Brightness Temperature\n",
    "\t\tmasked_aster_band_tb = tir_rad2tb(masked_aster_band_rad, aster_band)\n",
    "\t\t\n",
    "\t\t# Remove the extra dimension (bands, we only have one band here)\n",
    "\t\tmasked_aster_band_tb = masked_aster_band_tb.squeeze()\n",
    "\t\t\n",
    "\t\t# Get all pixel values in our masked area\n",
    "\t\tvalues = masked_aster_band_tb.flatten() # flatten to 1-D\n",
    "\t\tvalues = values[~np.isnan(values)] # remove NaN pixel values\n",
    "\t\t\n",
    "\t\t\n",
    "\t\t# Calculate zonal statistics for this area (mean, max, min, std:)\n",
    "\t\ttry:\n",
    "\t\t\tmasked_aster_band_tb_mean = values.mean()\n",
    "\t\t\tmasked_aster_band_tb_max = values.max()\n",
    "\t\t\tmasked_aster_band_tb_min = values.min()\n",
    "\t\t\tmasked_aster_band_tb_std = values.std()\n",
    "\t\texcept ValueError as e:\n",
    "\t\t\t# ValueError when the shapefile is empty I think\n",
    "\t\t\treturn\n",
    "\t\t\n",
    "\t\tif return_masked_array == True:\n",
    "\t\t\treturn masked_aster_band_tb_mean, masked_aster_band_tb_max, masked_aster_band_tb_min, masked_aster_band_tb_std, masked_aster_band_tb\n",
    "\t\telse:\n",
    "\t\t\treturn masked_aster_band_tb_mean, masked_aster_band_tb_max, masked_aster_band_tb_min, masked_aster_band_tb_std"
   ]
  },
  {
   "cell_type": "code",
   "execution_count": 4,
   "metadata": {},
   "outputs": [
    {
     "name": "stdout",
     "output_type": "stream",
     "text": [
      "273.6593206697129 277.2720386026262 270.67910185564574 1.7864163670438462\n"
     ]
    }
   ],
   "source": [
    "# Test zonal_stats\n",
    "a_mean, a_max, a_min, a_std = zonal_stats('AST_L1T_00304212017185107_20170422082541_26960_ImageData10.tif', 10, 'SHAPE.shp'\n",
    ", return_masked_array=False)\n",
    "print(a_mean,a_max,a_min,a_std)"
   ]
  },
  {
   "cell_type": "code",
   "execution_count": null,
   "metadata": {},
   "outputs": [],
   "source": []
  }
 ],
 "metadata": {
  "kernelspec": {
   "display_name": "Python 3",
   "language": "python",
   "name": "python3"
  },
  "language_info": {
   "codemirror_mode": {
    "name": "ipython",
    "version": 3
   },
   "file_extension": ".py",
   "mimetype": "text/x-python",
   "name": "python",
   "nbconvert_exporter": "python",
   "pygments_lexer": "ipython3",
   "version": "3.7.6"
  }
 },
 "nbformat": 4,
 "nbformat_minor": 4
}
