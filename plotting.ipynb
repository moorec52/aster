{
 "cells": [
  {
   "cell_type": "code",
   "execution_count": 10,
   "metadata": {},
   "outputs": [],
   "source": [
    "# Import libraries (I dont need all of these - check later)\n",
    "import aster_processing_fn\n",
    "import numpy as np\n",
    "import matplotlib.pyplot as plt\n",
    "import gdal\n",
    "import rasterio as rio\n",
    "from shapely.geometry import box\n",
    "import geopandas as gpd\n",
    "import xarray as xr"
   ]
  },
  {
   "cell_type": "code",
   "execution_count": 23,
   "metadata": {},
   "outputs": [],
   "source": [
    "# Name airborne & aster files\n",
    "airborne_tif = 'YOSEMITE_IR_PLANE_2017Apr21_mosaicked_9_calCam.tif'\n",
    "aster_tif = 'AST_L1T_00304212017185107_20170422082541_26960_ImageData14.tif'\n",
    "#out_tif = 'AST_L1T_00304212017185107_20170422082541_26960_ImageData10_masked9.tif'"
   ]
  },
  {
   "cell_type": "code",
   "execution_count": 3,
   "metadata": {},
   "outputs": [],
   "source": [
    "#tb_mean, tb_max, tb_min, tb_std, masked_aster_tb = aster_processing_fn.zonal_stats(aster_tif, 10, 'SHAPE.shp', return_masked_array=True)"
   ]
  },
  {
   "cell_type": "code",
   "execution_count": 4,
   "metadata": {
    "scrolled": true
   },
   "outputs": [
    {
     "name": "stdout",
     "output_type": "stream",
     "text": [
      "EPSG:32611 EPSG:26911\n"
     ]
    }
   ],
   "source": [
    "print(rio.open(aster_tif).crs,rio.open(airborne_tif).crs)"
   ]
  },
  {
   "cell_type": "code",
   "execution_count": 28,
   "metadata": {
    "scrolled": true
   },
   "outputs": [
    {
     "ename": "AttributeError",
     "evalue": "'DataArray' object has no attribute 'rio'",
     "output_type": "error",
     "traceback": [
      "\u001b[1;31m---------------------------------------------------------------------------\u001b[0m",
      "\u001b[1;31mAttributeError\u001b[0m                            Traceback (most recent call last)",
      "\u001b[1;32m<ipython-input-28-46cde689b9fa>\u001b[0m in \u001b[0;36m<module>\u001b[1;34m\u001b[0m\n\u001b[0;32m     13\u001b[0m \u001b[1;31m# Set airborne to Aster CRS\u001b[0m\u001b[1;33m\u001b[0m\u001b[1;33m\u001b[0m\u001b[1;33m\u001b[0m\u001b[0m\n\u001b[0;32m     14\u001b[0m \u001b[1;31m# Does it matter which is reprojected?\u001b[0m\u001b[1;33m\u001b[0m\u001b[1;33m\u001b[0m\u001b[1;33m\u001b[0m\u001b[0m\n\u001b[1;32m---> 15\u001b[1;33m \u001b[0mair_src_repr_match\u001b[0m \u001b[1;33m=\u001b[0m \u001b[0mair_src\u001b[0m\u001b[1;33m.\u001b[0m\u001b[0mrio\u001b[0m\u001b[1;33m.\u001b[0m\u001b[0mreproject_match\u001b[0m\u001b[1;33m(\u001b[0m\u001b[0master_src\u001b[0m\u001b[1;33m)\u001b[0m\u001b[1;33m\u001b[0m\u001b[1;33m\u001b[0m\u001b[0m\n\u001b[0m\u001b[0;32m     16\u001b[0m \u001b[1;33m\u001b[0m\u001b[0m\n\u001b[0;32m     17\u001b[0m \u001b[1;31m# Mask Aster\u001b[0m\u001b[1;33m\u001b[0m\u001b[1;33m\u001b[0m\u001b[1;33m\u001b[0m\u001b[0m\n",
      "\u001b[1;32m~\\Anaconda3\\lib\\site-packages\\xarray\\core\\common.py\u001b[0m in \u001b[0;36m__getattr__\u001b[1;34m(self, name)\u001b[0m\n\u001b[0;32m    227\u001b[0m                     \u001b[1;32mreturn\u001b[0m \u001b[0msource\u001b[0m\u001b[1;33m[\u001b[0m\u001b[0mname\u001b[0m\u001b[1;33m]\u001b[0m\u001b[1;33m\u001b[0m\u001b[1;33m\u001b[0m\u001b[0m\n\u001b[0;32m    228\u001b[0m         raise AttributeError(\n\u001b[1;32m--> 229\u001b[1;33m             \u001b[1;34m\"{!r} object has no attribute {!r}\"\u001b[0m\u001b[1;33m.\u001b[0m\u001b[0mformat\u001b[0m\u001b[1;33m(\u001b[0m\u001b[0mtype\u001b[0m\u001b[1;33m(\u001b[0m\u001b[0mself\u001b[0m\u001b[1;33m)\u001b[0m\u001b[1;33m.\u001b[0m\u001b[0m__name__\u001b[0m\u001b[1;33m,\u001b[0m \u001b[0mname\u001b[0m\u001b[1;33m)\u001b[0m\u001b[1;33m\u001b[0m\u001b[1;33m\u001b[0m\u001b[0m\n\u001b[0m\u001b[0;32m    230\u001b[0m         )\n\u001b[0;32m    231\u001b[0m \u001b[1;33m\u001b[0m\u001b[0m\n",
      "\u001b[1;31mAttributeError\u001b[0m: 'DataArray' object has no attribute 'rio'"
     ]
    }
   ],
   "source": [
    "# Load ASTER\n",
    "aster_src = xr.open_rasterio(aster_tif)\n",
    "#aster_src = aster_src.where(aster_src!=aster_src.nodatavals, np.nan)\n",
    "aster_band = 14\n",
    "aster_rad = aster_processing_fn.tir_dn2rad(aster_src, aster_band)\n",
    "aster_tb =  aster_processing_fn.tir_rad2tb(aster_rad, aster_band)\n",
    "aster_tb_degC = aster_tb-273.15\n",
    "\n",
    "# Load Airborne\n",
    "air_src = xr.open_rasterio(airborne_tif)\n",
    "air_src = air_src.where(air_src!=air_src.nodatavals, np.nan)\n",
    "\n",
    "# Set airborne to Aster CRS\n",
    "# Does it matter which is reprojected?\n",
    "air_src_repr_match = air_src.rio.reproject_match(aster_src)\n",
    "\n",
    "# Mask Aster\n",
    "aster_src.where(air_src!=0)"
   ]
  },
  {
   "cell_type": "code",
   "execution_count": null,
   "metadata": {},
   "outputs": [],
   "source": [
    "# create boolean mask array\n",
    "\n",
    "# modis_src = data array (airborne)\n",
    "\n",
    "air_src = rio.open(airborne_tif)\n",
    "\n",
    "air_src.where(modis_src!=0)\n",
    "\n",
    "# reproject mask (rioxarray function)\n",
    "modis_ds_repr_match = modis_ds.rio.reproject_match(aster_src)"
   ]
  },
  {
   "cell_type": "code",
   "execution_count": 3,
   "metadata": {},
   "outputs": [],
   "source": [
    "# https://pcjericks.github.io/py-gdalogr-cookbook/raster_layers.html\n",
    "\n",
    "src_ds = gdal.Open(airborne_tif)\n",
    "srcband = src_ds.GetRasterBand(1)\n",
    "\n",
    "dst_layername = \"POLYGONIZED_STUFF\"\n",
    "drv = ogr.GetDriverByName(\"ESRI Shapefile\")\n",
    "dst_ds = drv.CreateDataSource( dst_layername + \".shp\" )\n",
    "dst_layer = dst_ds.CreateLayer(dst_layername, srs = None )\n",
    "\n",
    "air_polygob = gdal.Polygonize( srcband, None, dst_layer, -1, [], callback=None )"
   ]
  },
  {
   "cell_type": "code",
   "execution_count": null,
   "metadata": {},
   "outputs": [],
   "source": [
    "# Use rasterio to create airborne mask\n",
    "# Aster processing does not like this method\n",
    "# https://gis.stackexchange.com/questions/187877/how-to-polygonize-raster-to-shapely-polygons\n",
    "mask = None\n",
    "with rio.Env():\n",
    "    with rio.open(airborne_tif) as src:\n",
    "        image = src.read(1) # first band\n",
    "        results = (\n",
    "        {'properties': {'raster_val': v}, 'geometry': s}\n",
    "        for i, (s, v) \n",
    "        in enumerate(\n",
    "            shapes(image, mask=mask, transform=src.transform)))\n",
    "\n",
    "geoms = list(results)\n",
    "\n",
    "#gpd_polygonized_raster = gpd.GeoDataFrame.from_features(geoms)"
   ]
  },
  {
   "cell_type": "code",
   "execution_count": 4,
   "metadata": {},
   "outputs": [
    {
     "ename": "AttributeError",
     "evalue": "'str' object has no attribute 'nodata'",
     "output_type": "error",
     "traceback": [
      "\u001b[1;31m---------------------------------------------------------------------------\u001b[0m",
      "\u001b[1;31mAttributeError\u001b[0m                            Traceback (most recent call last)",
      "\u001b[1;32m<ipython-input-4-098044e3646e>\u001b[0m in \u001b[0;36m<module>\u001b[1;34m\u001b[0m\n\u001b[1;32m----> 1\u001b[1;33m \u001b[0master_masked\u001b[0m \u001b[1;33m=\u001b[0m \u001b[0mmask\u001b[0m\u001b[1;33m(\u001b[0m\u001b[0master_tif\u001b[0m\u001b[1;33m,\u001b[0m\u001b[0mair_polygob\u001b[0m\u001b[1;33m)\u001b[0m\u001b[1;33m\u001b[0m\u001b[1;33m\u001b[0m\u001b[0m\n\u001b[0m",
      "\u001b[1;32m~\\Anaconda3\\lib\\site-packages\\rasterio\\mask.py\u001b[0m in \u001b[0;36mmask\u001b[1;34m(dataset, shapes, all_touched, invert, nodata, filled, crop, pad, pad_width, indexes)\u001b[0m\n\u001b[0;32m    175\u001b[0m \u001b[1;33m\u001b[0m\u001b[0m\n\u001b[0;32m    176\u001b[0m     \u001b[1;32mif\u001b[0m \u001b[0mnodata\u001b[0m \u001b[1;32mis\u001b[0m \u001b[1;32mNone\u001b[0m\u001b[1;33m:\u001b[0m\u001b[1;33m\u001b[0m\u001b[1;33m\u001b[0m\u001b[0m\n\u001b[1;32m--> 177\u001b[1;33m         \u001b[1;32mif\u001b[0m \u001b[0mdataset\u001b[0m\u001b[1;33m.\u001b[0m\u001b[0mnodata\u001b[0m \u001b[1;32mis\u001b[0m \u001b[1;32mnot\u001b[0m \u001b[1;32mNone\u001b[0m\u001b[1;33m:\u001b[0m\u001b[1;33m\u001b[0m\u001b[1;33m\u001b[0m\u001b[0m\n\u001b[0m\u001b[0;32m    178\u001b[0m             \u001b[0mnodata\u001b[0m \u001b[1;33m=\u001b[0m \u001b[0mdataset\u001b[0m\u001b[1;33m.\u001b[0m\u001b[0mnodata\u001b[0m\u001b[1;33m\u001b[0m\u001b[1;33m\u001b[0m\u001b[0m\n\u001b[0;32m    179\u001b[0m         \u001b[1;32melse\u001b[0m\u001b[1;33m:\u001b[0m\u001b[1;33m\u001b[0m\u001b[1;33m\u001b[0m\u001b[0m\n",
      "\u001b[1;31mAttributeError\u001b[0m: 'str' object has no attribute 'nodata'"
     ]
    }
   ],
   "source": [
    "aster_masked = mask(aster_tif,air_polygob)"
   ]
  },
  {
   "cell_type": "code",
   "execution_count": null,
   "metadata": {},
   "outputs": [],
   "source": [
    "# Does not work either\n",
    "\n",
    "# Convert airborne into shapefile to mask aster\n",
    "inDs = gdal.Open('{}.tif'.format(airborne_tif))\n",
    "outDs = gdal.Translate('{}.xyz'.format(airborne_tif), inDs, format='XYZ', creationOptions=[\"ADD_HEADER_LINE=YES\"])\n",
    "utDs = None\n",
    "try:\n",
    "    os.remove('{}.csv'.format(airborne_tif))\n",
    "except OSError:\n",
    "    pass\n",
    "os.rename('{}.xyz'.format(airborne_tif), '{}.csv'.format(airborne_tif))\n",
    "os.system('ogr2ogr -f \"ESRI Shapefile\" -oo X_POSSIBLE_NAMES=X* -oo Y_POSSIBLE_NAMES=Y* -oo KEEP_GEOM_COLUMNS=NO {0}.shp {0}.csv'.format(airborne_tif))"
   ]
  },
  {
   "cell_type": "code",
   "execution_count": null,
   "metadata": {},
   "outputs": [],
   "source": [
    "# Does not work\n",
    "\n",
    "# Create mask (modified from https://gis.stackexchange.com/questions/125202/gdal-clipping-a-raster-with-another-raster\n",
    "# and https://automating-gis-processes.github.io/CSC18/lessons/L6/clipping-raster.html)\n",
    "data = rio.open(aster_tif)\n",
    "out_meta = data.meta.copy() \n",
    "\n",
    "air_mask = gdal.Open(airborne_tif, GA_ReadOnly)\n",
    "\n",
    "geoTransform = air_mask.GetGeoTransform()\n",
    "minx = geoTransform[0]\n",
    "maxy = geoTransform[3]\n",
    "maxx = minx + geoTransform[1] * air_mask.RasterXSize\n",
    "miny = maxy + geoTransform[5] * air_mask.RasterYSize\n",
    "bbox = box(minx, miny, maxx, maxy)\n",
    "geo = gpd.GeoDataFrame({'geometry': bbox}, index=[0], crs=from_epsg(4326))\n",
    "\n",
    "def getFeatures(gdf):\n",
    "    \"\"\"Function to parse features from GeoDataFrame in such a manner that rasterio wants them\"\"\"\n",
    "    import json\n",
    "    return [json.loads(gdf.to_json())['features'][0]['geometry']]\n",
    "\n",
    "coords = getFeatures(geo)\n",
    "\n",
    "out_img, out_transform = mask(data, shapes=coords, crop=True)\n",
    "\n",
    "with rio.open(out_tif, \"w\", **out_meta) as dest:\n",
    "    dest.write(out_img)\n",
    "    \n",
    "masked = rio.open(out_tif)"
   ]
  },
  {
   "cell_type": "code",
   "execution_count": 6,
   "metadata": {},
   "outputs": [],
   "source": [
    "# Call zonal stats function on masked aster\n",
    "tb_mean, tb_max, tb_min, tb_std, masked_aster_tb = aster_processing_fn.zonal_stats(aster_tif, 10, 'SHAPE.shp', return_masked_array=True)"
   ]
  },
  {
   "cell_type": "code",
   "execution_count": 7,
   "metadata": {},
   "outputs": [
    {
     "data": {
      "image/png": "[encoded data removed]",
      "text/plain": [
       "<Figure size 432x288 with 2 Axes>"
      ]
     },
     "metadata": {
      "needs_background": "light"
     },
     "output_type": "display_data"
    }
   ],
   "source": [
    "# Plot in Kelvin\n",
    "plt.imshow(masked_aster_tb, cmap='magma')\n",
    "plt.colorbar()\n",
    "plt.title('ASTER Band 14 Brightness Temperature (K)');\n",
    "plt.axis('off');"
   ]
  },
  {
   "cell_type": "code",
   "execution_count": 8,
   "metadata": {},
   "outputs": [],
   "source": [
    "# Calculate temp in celsius\n",
    "masked_aster_tb_C = masked_aster_tb-273.15"
   ]
  },
  {
   "cell_type": "code",
   "execution_count": 9,
   "metadata": {},
   "outputs": [
    {
     "data": {
      "image/png": "[encoded data removed]",
      "text/plain": [
       "<Figure size 432x288 with 2 Axes>"
      ]
     },
     "metadata": {
      "needs_background": "light"
     },
     "output_type": "display_data"
    }
   ],
   "source": [
    "# Plot in celsius\n",
    "plt.imshow(masked_aster_tb_C, cmap='magma')\n",
    "plt.colorbar()\n",
    "plt.title('ASTER Band 14 Brightness Temperature (C)');\n",
    "plt.axis('off');"
   ]
  },
  {
   "cell_type": "code",
   "execution_count": 8,
   "metadata": {},
   "outputs": [
    {
     "ename": "AttributeError",
     "evalue": "'DatasetReader' object has no attribute 'imshow'",
     "output_type": "error",
     "traceback": [
      "\u001b[1;31m---------------------------------------------------------------------------\u001b[0m",
      "\u001b[1;31mAttributeError\u001b[0m                            Traceback (most recent call last)",
      "\u001b[1;32m<ipython-input-8-f7a0169de2de>\u001b[0m in \u001b[0;36m<module>\u001b[1;34m\u001b[0m\n\u001b[0;32m      3\u001b[0m \u001b[0mimg\u001b[0m \u001b[1;33m=\u001b[0m \u001b[0mrio\u001b[0m\u001b[1;33m.\u001b[0m\u001b[0mopen\u001b[0m\u001b[1;33m(\u001b[0m\u001b[0mfilepath\u001b[0m\u001b[1;33m)\u001b[0m\u001b[1;33m\u001b[0m\u001b[1;33m\u001b[0m\u001b[0m\n\u001b[0;32m      4\u001b[0m \u001b[1;33m\u001b[0m\u001b[0m\n\u001b[1;32m----> 5\u001b[1;33m \u001b[0mimg\u001b[0m\u001b[1;33m.\u001b[0m\u001b[0mimshow\u001b[0m\u001b[1;33m(\u001b[0m\u001b[0mlegend\u001b[0m\u001b[1;33m=\u001b[0m\u001b[1;32mTrue\u001b[0m\u001b[1;33m)\u001b[0m\u001b[1;33m\u001b[0m\u001b[1;33m\u001b[0m\u001b[0m\n\u001b[0m",
      "\u001b[1;31mAttributeError\u001b[0m: 'DatasetReader' object has no attribute 'imshow'"
     ]
    }
   ],
   "source": [
    "# Testing plotting airborne\n",
    "filepath = 'YOSEMITE_IR_PLANE_2017Apr21_mosaicked_9_calCam.tif'\n",
    "img = rio.open(filepath)\n",
    "\n",
    "img.imshow(legend=True)"
   ]
  },
  {
   "cell_type": "code",
   "execution_count": null,
   "metadata": {},
   "outputs": [],
   "source": []
  }
 ],
 "metadata": {
  "kernelspec": {
   "display_name": "Python 3",
   "language": "python",
   "name": "python3"
  },
  "language_info": {
   "codemirror_mode": {
    "name": "ipython",
    "version": 3
   },
   "file_extension": ".py",
   "mimetype": "text/x-python",
   "name": "python",
   "nbconvert_exporter": "python",
   "pygments_lexer": "ipython3",
   "version": "3.7.6"
  }
 },
 "nbformat": 4,
 "nbformat_minor": 4
}
